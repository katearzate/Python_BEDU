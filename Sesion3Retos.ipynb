{
  "nbformat": 4,
  "nbformat_minor": 0,
  "metadata": {
    "colab": {
      "name": "Sesion3Retos.ipynb",
      "provenance": []
    },
    "kernelspec": {
      "name": "python3",
      "display_name": "Python 3"
    }
  },
  "cells": [
    {
      "cell_type": "markdown",
      "metadata": {
        "id": "NE3wtK9LKJFD"
      },
      "source": [
        "# Reto 1: Map"
      ]
    },
    {
      "cell_type": "markdown",
      "metadata": {
        "id": "_BHqMpA7gc3C"
      },
      "source": [
        "a) Proporción a porcentajes"
      ]
    },
    {
      "cell_type": "code",
      "metadata": {
        "id": "wkbfgdC7KVMC"
      },
      "source": [
        "proporciones = [0.45, 0.2, 0.78, 0.4, 0.77, 0.9, 0.4, 0.5, 0.67, 0.24, 0.73]"
      ],
      "execution_count": null,
      "outputs": []
    },
    {
      "cell_type": "code",
      "metadata": {
        "id": "AmpShIumglsJ"
      },
      "source": [
        "def proporcion_a_porcentajes(proporcion):\r\n",
        "    return proporcion * 100"
      ],
      "execution_count": null,
      "outputs": []
    },
    {
      "cell_type": "code",
      "metadata": {
        "colab": {
          "base_uri": "https://localhost:8080/"
        },
        "id": "Xix1tPPqhQNB",
        "outputId": "807902d8-e6ff-443e-a042-92c93c02ac32"
      },
      "source": [
        "porcentajes = list(map(proporcion_a_porcentajes,proporciones))\r\n",
        "porcentajes"
      ],
      "execution_count": null,
      "outputs": [
        {
          "output_type": "execute_result",
          "data": {
            "text/plain": [
              "[45.0, 20.0, 78.0, 40.0, 77.0, 90.0, 40.0, 50.0, 67.0, 24.0, 73.0]"
            ]
          },
          "metadata": {
            "tags": []
          },
          "execution_count": 24
        }
      ]
    },
    {
      "cell_type": "code",
      "metadata": {
        "colab": {
          "base_uri": "https://localhost:8080/"
        },
        "id": "D24Vx8_HkHN_",
        "outputId": "36c33a8e-5493-4fb4-d6c2-b3ae669bd545"
      },
      "source": [
        "def imprimir_proporciones_en_equivalencia_a_porcentajes(proporciones, porcentajes):\r\n",
        "    \r\n",
        "    print(f'==Proporciones y su equivalencia en porcentajes de 1==\\n')\r\n",
        "    \r\n",
        "    for i in range(len(proporciones)):\r\n",
        "        print(f'- {proporciones[i]} es el {int(porcentajes[i])}% de 1.')\r\n",
        "\r\n",
        "imprimir_proporciones_en_equivalencia_a_porcentajes(proporciones, porcentajes)"
      ],
      "execution_count": null,
      "outputs": [
        {
          "output_type": "stream",
          "text": [
            "==Proporciones y su equivalencia en porcentajes de 1==\n",
            "\n",
            "- 0.45 es el 45% de 1.\n",
            "- 0.2 es el 20% de 1.\n",
            "- 0.78 es el 78% de 1.\n",
            "- 0.4 es el 40% de 1.\n",
            "- 0.77 es el 77% de 1.\n",
            "- 0.9 es el 90% de 1.\n",
            "- 0.4 es el 40% de 1.\n",
            "- 0.5 es el 50% de 1.\n",
            "- 0.67 es el 67% de 1.\n",
            "- 0.24 es el 24% de 1.\n",
            "- 0.73 es el 73% de 1.\n"
          ],
          "name": "stdout"
        }
      ]
    },
    {
      "cell_type": "markdown",
      "metadata": {
        "id": "buOXFEiliZDL"
      },
      "source": [
        "b) Strings a números"
      ]
    },
    {
      "cell_type": "code",
      "metadata": {
        "id": "HanjU8fpjyyV"
      },
      "source": [
        "numeros_como_strings = [\"3\", \"7\", \"45\", \"89\", \"12\", \"9\", \"5\", \"89\", \"78\", \"87\", \"44\", \"45\", \"26\", \"84\", \"98\", \"46\", \"99\", \"84\"]"
      ],
      "execution_count": null,
      "outputs": []
    },
    {
      "cell_type": "code",
      "metadata": {
        "id": "H5dIG4zNkZK2"
      },
      "source": [
        "def string_a_int(string):\r\n",
        "    return int(string)"
      ],
      "execution_count": null,
      "outputs": []
    },
    {
      "cell_type": "code",
      "metadata": {
        "colab": {
          "base_uri": "https://localhost:8080/"
        },
        "id": "fRMrNkd1k32M",
        "outputId": "326803c8-e5f7-478c-c489-9844a01c811f"
      },
      "source": [
        "numeros_como_ints = list(map(string_a_int, numeros_como_strings))"
      ],
      "execution_count": null,
      "outputs": [
        {
          "output_type": "execute_result",
          "data": {
            "text/plain": [
              "[3, 7, 45, 89, 12, 9, 5, 89, 78, 87, 44, 45, 26, 84, 98, 46, 99, 84]"
            ]
          },
          "metadata": {
            "tags": []
          },
          "execution_count": 29
        }
      ]
    },
    {
      "cell_type": "code",
      "metadata": {
        "colab": {
          "base_uri": "https://localhost:8080/"
        },
        "id": "9wqnTmgJk6QU",
        "outputId": "29457b06-dc41-4cf6-ab5f-d342de04d9d2"
      },
      "source": [
        "def imprimir_analisis_estadistico(datos):\r\n",
        "    \r\n",
        "    def mediana(datos):\r\n",
        "        datos_sorted = sorted(datos)\r\n",
        "        len_datos = len(datos)\r\n",
        "        \r\n",
        "        if len_datos % 2 == 0:\r\n",
        "            mediana = (datos_sorted[int(len_datos / 2) - 1] + datos_sorted[int(len_datos / 2)]) / 2\r\n",
        "        else:\r\n",
        "            import math\r\n",
        "            mediana = datos_sorted[int(math.floor(len_datos / 2))]\r\n",
        "            \r\n",
        "        return mediana\r\n",
        "    \r\n",
        "    print(f'==Análisis estadístico de los datos recibidos==\\n')\r\n",
        "    print(f'Valor mínimo: {min(datos)}')\r\n",
        "    print(f'Valor máximo: {max(datos)}')\r\n",
        "    print(f'Rango de valores: {max(datos) - min(datos)}')\r\n",
        "    print(f'Promedio: {sum(datos) / len(datos)}')\r\n",
        "    print(f'Mediana: {mediana(datos)}')\r\n",
        "\r\n",
        "\r\n",
        "imprimir_analisis_estadistico(numeros_como_ints)"
      ],
      "execution_count": null,
      "outputs": [
        {
          "output_type": "stream",
          "text": [
            "==Análisis estadístico de los datos recibidos==\n",
            "\n",
            "Valor mínimo: 3\n",
            "Valor máximo: 99\n",
            "Rango de valores: 96\n",
            "Promedio: 52.77777777777778\n",
            "Mediana: 45.5\n"
          ],
          "name": "stdout"
        }
      ]
    },
    {
      "cell_type": "markdown",
      "metadata": {
        "id": "QkXQFX4pmPPS"
      },
      "source": [
        "# Reto 2: Filter"
      ]
    },
    {
      "cell_type": "markdown",
      "metadata": {
        "id": "it_iJCxJmeHh"
      },
      "source": [
        "a) Limpiando datos nulos"
      ]
    },
    {
      "cell_type": "code",
      "metadata": {
        "id": "pAPaX3XZmgWI"
      },
      "source": [
        "edades = [12, 16, 19, None, 21, 25, 24, None, None, 16, 17, 25, 23, 28, None, 23, 35, 59, 67, None, 34, 21, 23, 15, 14, None, 18, 24, 23, 17]"
      ],
      "execution_count": null,
      "outputs": []
    },
    {
      "cell_type": "code",
      "metadata": {
        "id": "uVj4IgeKmzLJ"
      },
      "source": [
        "def valor_no_es_none(numero):\r\n",
        "  if numero != None:\r\n",
        "     return True\r\n",
        "  else:\r\n",
        "     return False"
      ],
      "execution_count": null,
      "outputs": []
    },
    {
      "cell_type": "code",
      "metadata": {
        "colab": {
          "base_uri": "https://localhost:8080/"
        },
        "id": "ZCKSVPBMnoUf",
        "outputId": "164e3405-c059-48b0-c07b-b6961a406870"
      },
      "source": [
        "edades_filtradas = list(filter(valor_no_es_none, edades))\r\n",
        "edades_filtradas"
      ],
      "execution_count": null,
      "outputs": [
        {
          "output_type": "execute_result",
          "data": {
            "text/plain": [
              "[12,\n",
              " 16,\n",
              " 19,\n",
              " 21,\n",
              " 25,\n",
              " 24,\n",
              " 16,\n",
              " 17,\n",
              " 25,\n",
              " 23,\n",
              " 28,\n",
              " 23,\n",
              " 35,\n",
              " 59,\n",
              " 67,\n",
              " 34,\n",
              " 21,\n",
              " 23,\n",
              " 15,\n",
              " 14,\n",
              " 18,\n",
              " 24,\n",
              " 23,\n",
              " 17]"
            ]
          },
          "metadata": {
            "tags": []
          },
          "execution_count": 37
        }
      ]
    },
    {
      "cell_type": "code",
      "metadata": {
        "colab": {
          "base_uri": "https://localhost:8080/",
          "height": 319
        },
        "id": "6UACwH6roDqJ",
        "outputId": "83f7e43b-6fb0-4b3d-dc6c-24d5fb838d32"
      },
      "source": [
        "def crear_histograma_con(datos):\r\n",
        "    import seaborn as sns\r\n",
        "    import numpy as np\r\n",
        "    \r\n",
        "    sns.distplot(datos, kde=False, bins=len(np.unique(datos)))\r\n",
        "\r\n",
        "crear_histograma_con(edades_filtradas)"
      ],
      "execution_count": null,
      "outputs": [
        {
          "output_type": "stream",
          "text": [
            "/usr/local/lib/python3.6/dist-packages/seaborn/distributions.py:2557: FutureWarning: `distplot` is a deprecated function and will be removed in a future version. Please adapt your code to use either `displot` (a figure-level function with similar flexibility) or `histplot` (an axes-level function for histograms).\n",
            "  warnings.warn(msg, FutureWarning)\n"
          ],
          "name": "stderr"
        },
        {
          "output_type": "display_data",
          "data": {
            "image/png": "[encoded data removed]",
            "text/plain": [
              "<Figure size 432x288 with 1 Axes>"
            ]
          },
          "metadata": {
            "tags": [],
            "needs_background": "light"
          }
        }
      ]
    },
    {
      "cell_type": "markdown",
      "metadata": {
        "id": "c_K02eHWoJDy"
      },
      "source": [
        "b) Filtrando datos atípicos"
      ]
    },
    {
      "cell_type": "code",
      "metadata": {
        "id": "qv3HHE84oLv6"
      },
      "source": [
        "sueldos = [26, 32, 26, 30, 30, 32, 28, 30, 28, 110, 34, 30, 28, 26, 28, 30, 28, 85, 25, 30, 34, 34, 30, 30, 120, 28, 28, 120, 125]"
      ],
      "execution_count": null,
      "outputs": []
    },
    {
      "cell_type": "code",
      "metadata": {
        "colab": {
          "base_uri": "https://localhost:8080/"
        },
        "id": "5I4pnYl1pQs5",
        "outputId": "a643d49f-cbef-4fc8-d954-ac3221730546"
      },
      "source": [
        "print(f'El sueldo \"típico\" en EyePoker Inc. es de {sum(sueldos) / len(sueldos)}')"
      ],
      "execution_count": null,
      "outputs": [
        {
          "output_type": "stream",
          "text": [
            "El sueldo \"típico\" en EyePoker Inc. es de 43.62068965517241\n"
          ],
          "name": "stdout"
        }
      ]
    },
    {
      "cell_type": "code",
      "metadata": {
        "id": "MuBNFaXap_Wd"
      },
      "source": [
        "def numero_es_menor_que_40(sueldo):\r\n",
        "  if sueldo < 40: \r\n",
        "    return True"
      ],
      "execution_count": null,
      "outputs": []
    },
    {
      "cell_type": "code",
      "metadata": {
        "id": "lKK91N0yqS2y"
      },
      "source": [
        "sueldos_filtrados = list(filter(numero_es_menor_que_40, sueldos))"
      ],
      "execution_count": null,
      "outputs": []
    },
    {
      "cell_type": "code",
      "metadata": {
        "colab": {
          "base_uri": "https://localhost:8080/"
        },
        "id": "wM4JU0i-qY05",
        "outputId": "c02298c2-8a63-459c-cee7-93bc7f11df55"
      },
      "source": [
        "print(f'El sueldo \"típico\" en EyePoker Inc. es de {sum(sueldos_filtrados) / len(sueldos_filtrados)}')"
      ],
      "execution_count": null,
      "outputs": [
        {
          "output_type": "stream",
          "text": [
            "El sueldo \"típico\" en EyePoker Inc. es de 29.375\n"
          ],
          "name": "stdout"
        }
      ]
    },
    {
      "cell_type": "markdown",
      "metadata": {
        "id": "5H8zvpcOqd_w"
      },
      "source": [
        "# Reto 3: AND"
      ]
    },
    {
      "cell_type": "markdown",
      "metadata": {
        "id": "lMG5HfRHrM00"
      },
      "source": [
        "a) Filtrando valores atípicos en ambos extremos."
      ]
    },
    {
      "cell_type": "code",
      "metadata": {
        "id": "XJovB4xUtZqZ"
      },
      "source": [
        "sueldos = [26, 32, 26, 1.5, 30, 30, 1, 2, 32, 28, 30, 28, 30, 28, 27, 30, 110, 1.5, 2, 34, 30, 28, 26, 28, 2, 30, 28, 85, 25, 1.5, 1.5, 30, 34, 34, 30, 30, 120, 28, 2, 2, 1.5, 28, 120, 1, 1.5, 125, 2, 1.5, 28, 29, 30, 34, 33, 28, 2, 1, 1.5, 26, 28, 26, 26, 30, 30, 28, 2, 2, 1.5, 2, 1.5, 28, 27, 130, 1.5, 2, 26, 26, 28, 30, 30, 30, 28, 28, 1, 1, 135, 1, 1, 1.5, 2, 2, 2, 1.5, 2]"
      ],
      "execution_count": null,
      "outputs": []
    },
    {
      "cell_type": "code",
      "metadata": {
        "colab": {
          "base_uri": "https://localhost:8080/"
        },
        "id": "sPWo4E_RtWfH",
        "outputId": "2ee5c110-3258-4771-eaa8-3e11df830ec5"
      },
      "source": [
        "print(f'El sueldo \"típico\" en EyePoker Inc. es de {sum(sueldos) / len(sueldos)}')"
      ],
      "execution_count": null,
      "outputs": [
        {
          "output_type": "stream",
          "text": [
            "El sueldo \"típico\" en EyePoker Inc. es de 25.36021505376344\n"
          ],
          "name": "stdout"
        }
      ]
    },
    {
      "cell_type": "code",
      "metadata": {
        "id": "GPFPtNQutbz_"
      },
      "source": [
        "#Función que regrese True cuando el argumento sea mayor que 20.\r\n",
        "def mayor_que_20(numero):\r\n",
        "    return numero > 20"
      ],
      "execution_count": null,
      "outputs": []
    },
    {
      "cell_type": "code",
      "metadata": {
        "id": "pmwiPGK9xEHZ"
      },
      "source": [
        "#Función que regrese True cuando el argumento sea menor que 40\r\n",
        "def menor_que_40(numero): \r\n",
        "    return numero < 40"
      ],
      "execution_count": null,
      "outputs": []
    },
    {
      "cell_type": "code",
      "metadata": {
        "id": "xBLvIveKxPOY"
      },
      "source": [
        "#Función que una las dos primeras funciones usando un operador and.\r\n",
        "def entre_20_y_40(numero):\r\n",
        "    return mayor_que_20(numero) and menor_que_40(numero)"
      ],
      "execution_count": null,
      "outputs": []
    },
    {
      "cell_type": "code",
      "metadata": {
        "id": "fHIaL2i9xyRE"
      },
      "source": [
        "sueldos_filtrados = list(filter(entre_20_y_40, sueldos))"
      ],
      "execution_count": null,
      "outputs": []
    },
    {
      "cell_type": "code",
      "metadata": {
        "colab": {
          "base_uri": "https://localhost:8080/"
        },
        "id": "B_Hw2QVP3Rtl",
        "outputId": "e987db64-f0f6-4883-9bcd-9c1cd07e4e1c"
      },
      "source": [
        "print(f'El sueldo \"típico\" en EyePoker Inc. es de {sum(sueldos_filtrados) / len(sueldos_filtrados)}')"
      ],
      "execution_count": null,
      "outputs": [
        {
          "output_type": "stream",
          "text": [
            "El sueldo \"típico\" en EyePoker Inc. es de 28.96078431372549\n"
          ],
          "name": "stdout"
        }
      ]
    },
    {
      "cell_type": "markdown",
      "metadata": {
        "id": "DboBqWbs4Mji"
      },
      "source": [
        "# Reto 4: OR"
      ]
    },
    {
      "cell_type": "markdown",
      "metadata": {
        "id": "S-Mp1MPX4gwv"
      },
      "source": [
        "\r\n",
        "a) Filtrando palabras"
      ]
    },
    {
      "cell_type": "code",
      "metadata": {
        "id": "_W53wlDg4brA"
      },
      "source": [
        "palabras = ['cabildo', 'genocidio', 'severo', 'jarana', 'enigmático', 'jaguar', 'solidaridad', 'reivindicar', 'bálsamo', 'panteón',\r\n",
        "            'cabestrillo', 'boicotear', 'letargo', 'jaqueca', 'tentáculo', 'legislar', 'gnomo', 'blasfemia', 'camposanto',\r\n",
        "            'factible', 'eficaz', 'sintonía', 'lloriquear', 'fachada', 'edificante', 'pétalo', 'libélula', 'pavimento', 'llovizna',\r\n",
        "            'racimo', 'gargantilla', 'relieve', 'bóveda', 'tecnicismo', 'terraplén', 'basílica']"
      ],
      "execution_count": null,
      "outputs": []
    },
    {
      "cell_type": "code",
      "metadata": {
        "id": "kaqCDmN94j35"
      },
      "source": [
        "def ele(palabra):\r\n",
        "  return palabra[0] == (\"l\")\r\n",
        "\r\n",
        "def ge(palabra):\r\n",
        "  return palabra[0] == (\"g\")\r\n",
        "\r\n",
        "def be(palabra):\r\n",
        "  return palabra[0] == (\"b\")\r\n",
        "\r\n",
        "def te(palabra):\r\n",
        "  return palabra[0] == (\"t\")"
      ],
      "execution_count": null,
      "outputs": []
    },
    {
      "cell_type": "code",
      "metadata": {
        "id": "V39FmlLp6Hin"
      },
      "source": [
        "def union(palabra):\r\n",
        "  return ele(palabra) or ge(palabra) or be(palabra) or te(palabra)"
      ],
      "execution_count": null,
      "outputs": []
    },
    {
      "cell_type": "code",
      "metadata": {
        "id": "qyB_AgIw5ZWX"
      },
      "source": [
        "palabras_filtradas = list(filter(union,palabras))"
      ],
      "execution_count": null,
      "outputs": []
    },
    {
      "cell_type": "code",
      "metadata": {
        "colab": {
          "base_uri": "https://localhost:8080/"
        },
        "id": "7zQxe7_M5ejL",
        "outputId": "761de10b-f147-4810-b685-70b24d8a0a15"
      },
      "source": [
        "print(f'==Concurso Nacional de Deletreo \"Salvador Novo\"==\\n')\r\n",
        "print(f'Lista oficial de palabras: {palabras_filtradas}')"
      ],
      "execution_count": null,
      "outputs": [
        {
          "output_type": "stream",
          "text": [
            "==Concurso Nacional de Deletreo \"Salvador Novo\"==\n",
            "\n",
            "Lista oficial de palabras: ['genocidio', 'bálsamo', 'boicotear', 'letargo', 'tentáculo', 'legislar', 'gnomo', 'blasfemia', 'lloriquear', 'libélula', 'llovizna', 'gargantilla', 'bóveda', 'tecnicismo', 'terraplén', 'basílica']\n"
          ],
          "name": "stdout"
        }
      ]
    },
    {
      "cell_type": "markdown",
      "metadata": {
        "id": "cLoFCr9Q_uui"
      },
      "source": [
        "# Reto 5: Lambda"
      ]
    },
    {
      "cell_type": "markdown",
      "metadata": {
        "id": "DSxR2V9hAwFC"
      },
      "source": [
        "a) Conteo de votos"
      ]
    },
    {
      "cell_type": "code",
      "metadata": {
        "id": "fKMedAZ3Aw4d"
      },
      "source": [
        "votos = ['AI', 'CC', 'CC', 'CC', 'CC', 'CC', 'CC', 'CC', 'CC', 'CC', 'CC', 'CC', 'CC', 'AI', 'CC', 'CC', 'CC', 'AI', 'AI', 'AI'\r\n",
        "         , 'CC', 'AI', 'AI', 'CC', 'CC', 'CC', 'AI', 'CC', 'CC', 'AI', 'AI', 'CC', 'CC', 'CC', 'CC', 'CC', 'CC', 'CC', 'CC',\r\n",
        "         'CC', 'CC', 'CC', 'CC', 'AI', 'CC', 'CC', 'CC', 'CC', 'CC', 'CC', 'CC', 'CC', 'AI', 'AI', 'AI', 'CC', 'AI', 'CC', 'CC',\r\n",
        "         'CC', 'AI', 'CC', 'AI', 'CC', 'AI', 'CC', 'CC', 'CC', 'CC', 'CC', 'CC', 'CC', 'CC', 'AI', 'CC', 'CC', 'CC', 'CC', 'AI',\r\n",
        "         'CC', 'CC', 'CC', 'CC', 'CC', 'AI', 'CC', 'CC', 'CC', 'CC', 'CC', 'CC', 'CC', 'CC', 'AI', 'AI', 'CC', 'CC', 'CC', 'CC',\r\n",
        "         'CC', 'CC', 'CC', 'CC', 'AI', 'CC', 'CC', 'CC', 'CC', 'AI', 'CC', 'AI', 'CC', 'AI', 'CC', 'CC', 'AI', 'AI', 'CC', 'CC',\r\n",
        "         'CC', 'AI', 'CC', 'CC', 'CC', 'CC', 'CC', 'CC', 'CC', 'CC', 'CC', 'CC', 'CC', 'CC', 'CC', 'CC', 'CC', 'CC', 'CC', 'CC',\r\n",
        "         'CC', 'AI', 'CC', 'AI', 'CC', 'CC', 'CC', 'CC', 'AI', 'CC', 'CC', 'CC', 'CC', 'CC', 'CC', 'CC', 'CC', 'CC', 'CC', 'CC', \r\n",
        "         'AI', 'AI', 'AI', 'AI', 'CC', 'AI', 'CC', 'AI', 'AI', 'CC', 'CC', 'AI', 'CC', 'CC', 'CC', 'CC', 'CC', 'CC', 'CC', 'CC',\r\n",
        "         'AI', 'CC', 'CC', 'CC', 'CC', 'CC', 'CC', 'CC', 'CC', 'CC', 'CC', 'AI', 'CC', 'AI', 'CC', 'CC', 'AI', 'CC', 'AI', 'AI',\r\n",
        "         'AI', 'CC', 'CC', 'AI', 'CC', 'CC', 'CC', 'CC', 'CC', 'CC', 'AI', 'CC', 'CC', 'CC', 'CC', 'CC', 'CC', 'CC', 'AI', 'CC',\r\n",
        "         'AI', 'AI', 'CC', 'CC', 'CC', 'AI', 'AI', 'AI', 'CC', 'AI', 'CC', 'CC', 'AI', 'CC', 'CC', 'AI', 'AI', 'CC', 'CC', 'CC',\r\n",
        "         'CC', 'AI', 'AI', 'CC', 'CC', 'AI', 'AI', 'AI', 'CC', 'AI', 'CC', 'CC', 'CC', 'CC', 'CC', 'CC', 'CC', 'CC', 'CC', 'AI',\r\n",
        "         'AI', 'CC', 'CC', 'CC', 'CC', 'AI', 'CC', 'AI', 'AI', 'CC', 'CC', 'CC', 'CC', 'CC', 'CC', 'CC', 'AI', 'CC', 'AI', 'CC',\r\n",
        "         'CC', 'CC', 'CC', 'CC', 'AI', 'CC', 'CC', 'CC', 'CC', 'CC', 'CC', 'CC', 'CC', 'CC', 'AI', 'CC', 'CC', 'CC', 'AI', 'CC',\r\n",
        "         'AI', 'CC', 'CC', 'AI', 'AI', 'CC', 'CC', 'AI', 'CC', 'CC', 'CC', 'AI', 'CC', 'CC', 'AI', 'CC', 'AI', 'CC', 'AI', 'CC',\r\n",
        "         'AI', 'AI', 'AI', 'CC', 'CC', 'CC', 'CC', 'CC', 'AI', 'CC', 'CC', 'CC', 'AI', 'CC', 'AI', 'CC', 'CC', 'CC', 'AI', 'AI',\r\n",
        "         'CC', 'CC', 'CC', 'CC', 'CC', 'AI', 'CC', 'AI', 'AI', 'CC', 'CC', 'CC', 'AI', 'CC', 'CC', 'CC', 'CC', 'CC', 'CC', 'CC',\r\n",
        "         'AI', 'AI', 'AI', 'AI', 'CC', 'CC', 'AI', 'CC', 'CC', 'CC', 'CC', 'CC', 'CC', 'CC', 'AI', 'AI', 'CC', 'CC', 'CC', 'CC',\r\n",
        "         'AI', 'AI', 'CC', 'CC', 'CC', 'CC', 'CC', 'CC', 'CC', 'CC', 'CC', 'AI', 'CC', 'CC', 'AI', 'CC', 'CC', 'CC', 'CC', 'AI',\r\n",
        "         'CC', 'CC', 'AI', 'CC', 'AI', 'CC', 'CC', 'AI', 'CC', 'AI', 'CC', 'CC', 'CC', 'AI', 'CC', 'CC', 'AI', 'AI', 'CC', 'CC',\r\n",
        "         'CC', 'CC', 'CC', 'AI', 'CC', 'CC', 'CC', 'AI', 'CC', 'AI', 'CC', 'CC', 'CC', 'CC', 'CC', 'AI', 'CC', 'CC', 'AI', 'CC',\r\n",
        "         'AI', 'CC', 'CC', 'CC', 'AI', 'CC', 'AI']"
      ],
      "execution_count": 1,
      "outputs": []
    },
    {
      "cell_type": "code",
      "metadata": {
        "id": "a9LUzFogBAzS"
      },
      "source": [
        "def votos_ai(voto):\r\n",
        "  return voto == \"AI\""
      ],
      "execution_count": 2,
      "outputs": []
    },
    {
      "cell_type": "code",
      "metadata": {
        "id": "4jDpvFJfBPND"
      },
      "source": [
        "votos_por_ai = list(filter(votos_ai,votos))"
      ],
      "execution_count": 3,
      "outputs": []
    },
    {
      "cell_type": "code",
      "metadata": {
        "id": "Q5FOxYPLCBNk"
      },
      "source": [
        "votos_por_cc = list(filter(lambda x: not votos_ai(x), votos))"
      ],
      "execution_count": 4,
      "outputs": []
    },
    {
      "cell_type": "code",
      "metadata": {
        "colab": {
          "base_uri": "https://localhost:8080/"
        },
        "id": "363trcD4Cp-A",
        "outputId": "8cb02ea3-8c13-4ba0-d491-fb1d2d0c624c"
      },
      "source": [
        "print(f'== Resultados de la votación para el Proyecto Comunitario 2025 ==\\n')\r\n",
        "print(f'{(\"Proyecto\"):25}   Conteo')\r\n",
        "print(f'---------------------------------------')\r\n",
        "print(f'{(\"- Ética en AI\"):25} | {len(votos_por_ai)}')\r\n",
        "print(f'{(\"- Cambio Climático\"):25} | {len(votos_por_cc)}')\r\n",
        "print(f'---------------------------------------')\r\n",
        "print(f'{(\"- Total\"):25} | {len(votos_por_ai) + len(votos_por_cc)}')"
      ],
      "execution_count": 5,
      "outputs": [
        {
          "output_type": "stream",
          "text": [
            "== Resultados de la votación para el Proyecto Comunitario 2025 ==\n",
            "\n",
            "Proyecto                    Conteo\n",
            "---------------------------------------\n",
            "- Ética en AI             | 123\n",
            "- Cambio Climático        | 323\n",
            "---------------------------------------\n",
            "- Total                   | 446\n"
          ],
          "name": "stdout"
        }
      ]
    }
  ]
}