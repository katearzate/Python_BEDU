{
  "nbformat": 4,
  "nbformat_minor": 0,
  "metadata": {
    "colab": {
      "name": "Sesion1Retos.ipynb",
      "provenance": [],
      "toc_visible": true
    },
    "kernelspec": {
      "name": "python3",
      "display_name": "Python 3"
    }
  },
  "cells": [
    {
      "cell_type": "markdown",
      "metadata": {
        "id": "Fkajbb9b9MYS"
      },
      "source": [
        "# Reto 1: Variables en Python"
      ]
    },
    {
      "cell_type": "code",
      "metadata": {
        "id": "TLguzufi9RdZ"
      },
      "source": [
        "# Asigna el número 12345 a una variable llamada variable_locochona\r\n",
        "variable_locochona = 12345\r\n",
        "\r\n",
        "# Asigna el número 14.567 a una variable llamada var_decimal\r\n",
        "var_decimal = 14.567\r\n",
        "\r\n",
        "# Asigna cualquier número a una varible que tenga 5 palabras en su nombre (recuerda las convenciones)\r\n",
        "ventas_anuales_totales_del_2015 = 100\r\n"
      ],
      "execution_count": null,
      "outputs": []
    },
    {
      "cell_type": "markdown",
      "metadata": {
        "id": "qTLFtazndjeF"
      },
      "source": [
        "# Reto 2: Operaciones numéricas "
      ]
    },
    {
      "cell_type": "code",
      "metadata": {
        "id": "R0h6C6LvlJ3X"
      },
      "source": [
        "var_1 = 6\r\n",
        "var_2 = 8\r\n",
        "var_3 = 4\r\n",
        "var_4 = 16\r\n",
        "var_5 = 4"
      ],
      "execution_count": null,
      "outputs": []
    },
    {
      "cell_type": "code",
      "metadata": {
        "colab": {
          "base_uri": "https://localhost:8080/"
        },
        "id": "RQbXqITzowrJ",
        "outputId": "6d4c63bb-50de-4c00-9bdb-c1cb70a570b6"
      },
      "source": [
        "var_1 + var_2  # Resultado esperado: 14"
      ],
      "execution_count": null,
      "outputs": [
        {
          "output_type": "execute_result",
          "data": {
            "text/plain": [
              "14"
            ]
          },
          "metadata": {
            "tags": []
          },
          "execution_count": 12
        }
      ]
    },
    {
      "cell_type": "code",
      "metadata": {
        "id": "mdkYvcQuo2X2"
      },
      "source": [
        "var_3 - var_2  # Resultado esperado: -4"
      ],
      "execution_count": null,
      "outputs": []
    },
    {
      "cell_type": "code",
      "metadata": {
        "id": "CgVxRxvCo5XB"
      },
      "source": [
        "var_3 * var_1  # Resultado esperado: 24"
      ],
      "execution_count": null,
      "outputs": []
    },
    {
      "cell_type": "code",
      "metadata": {
        "id": "4xjPlYz2o8I8"
      },
      "source": [
        "var_5 + var_3  # Resultado esperado: 8"
      ],
      "execution_count": null,
      "outputs": []
    },
    {
      "cell_type": "code",
      "metadata": {
        "id": "UeuYyFTCpFfT"
      },
      "source": [
        "var_4 / var_5  # Resultado esperado: 4"
      ],
      "execution_count": null,
      "outputs": []
    },
    {
      "cell_type": "markdown",
      "metadata": {
        "id": "jk7tu8t-pIG2"
      },
      "source": [
        "# Reto 3: Interpolacion de Strings"
      ]
    },
    {
      "cell_type": "code",
      "metadata": {
        "colab": {
          "base_uri": "https://localhost:8080/"
        },
        "id": "5b4ylJZepcaj",
        "outputId": "375960f8-e358-45ce-c2e8-6394260ea83a"
      },
      "source": [
        "print(f\"Mi edad es: {20}\")"
      ],
      "execution_count": null,
      "outputs": [
        {
          "output_type": "stream",
          "text": [
            "Mi edad es: 20\n"
          ],
          "name": "stdout"
        }
      ]
    },
    {
      "cell_type": "code",
      "metadata": {
        "id": "7MvDnOxoq3SD"
      },
      "source": [
        "nombre_1 = \"Jenny\"\r\n",
        "nombre_2 = \"Marco P.\"\r\n",
        "\r\n",
        "edad_1 = 110\r\n",
        "edad_2 = 42\r\n",
        "\r\n",
        "estrella_1 = \"Woopsie Doopsies\"\r\n",
        "estrella_2 = \"Omega-3\"\r\n",
        "estrella_3 = \"Justin Bieber\"\r\n",
        "estrella_4 = \"La Twinkle\"\r\n",
        "estrella_5 = \"Rosaberta\"\r\n",
        "\r\n",
        "total_de_nombres_de_estrellas_mencionados = 5\r\n",
        "numero_de_estrellas_deseadas = 325"
      ],
      "execution_count": null,
      "outputs": []
    },
    {
      "cell_type": "code",
      "metadata": {
        "colab": {
          "base_uri": "https://localhost:8080/"
        },
        "id": "BomUckWCq8Kc",
        "outputId": "3231da94-150c-45c7-b93f-4af4e50a0428"
      },
      "source": [
        "print(f\"{nombre_1} y {nombre_2} son grandes amigues. Les mejores. Van  y vienen juntes desde hace décadas. \\nSí, décadas. {nombre_2} tiene {edad_1} y {nombre_2} {edad_2}.\"+\r\n",
        "      f\" Si sumas sus edades, obtienes {edad_1+edad_2}, que curiosamente \\nes el número de estrellas que {nombre_2}. y {nombre_1} han nombrado juntes. Sus estrellas son su mayor fascinación.\\n\"+\r\n",
        "      f\"Las compraron en Best Buy en una ganga de objetos celestes. Están {estrella_1}, {estrella_2}, {estrella_3},\\n{estrella_4}, {estrella_5} y otras 147 estrellas más. {nombre_2} y {nombre_1} tienen planeado sobrevivir hasta el siglo XXII.\\n\"+\r\n",
        "      f\"¡Cuántas estrellas más habrán de comprar y nombrar juntes! Su meta es {total_de_nombres_de_estrellas_mencionados}. Solo faltan 173. ¡Vamos {nombre_2} y {nombre_1}!\\n{nombre_2} y {nombre_1} son les mejores amigues. No hay duda alguna.\")"
      ],
      "execution_count": null,
      "outputs": [
        {
          "output_type": "stream",
          "text": [
            "Jenny y Marco P. son grandes amigues. Les mejores. Van  y vienen juntes desde hace décadas. \n",
            "Sí, décadas. Marco P. tiene 110 y Marco P. 42. Si sumas sus edades, obtienes 152, que curiosamente \n",
            "es el número de estrellas que Marco P.. y Jenny han nombrado juntes. Sus estrellas son su mayor fascinación.\n",
            "Las compraron en Best Buy en una ganga de objetos celestes. Están Woopsie Doopsies, Omega-3, Justin Bieber,\n",
            "La Twinkle, Rosaberta y otras 147 estrellas más. Marco P. y Jenny tienen planeado sobrevivir hasta el siglo XXII.\n",
            "¡Cuántas estrellas más habrán de comprar y nombrar juntes! Su meta es 5. Solo faltan 173. ¡Vamos Marco P. y Jenny!\n",
            "Marco P. y Jenny son les mejores amigues. No hay duda alguna\n"
          ],
          "name": "stdout"
        }
      ]
    },
    {
      "cell_type": "markdown",
      "metadata": {
        "id": "GknoZkNtwoZ7"
      },
      "source": [
        "# Reto 4: Operadores de Comparación"
      ]
    },
    {
      "cell_type": "code",
      "metadata": {
        "id": "1xWvEWOfwv5f"
      },
      "source": [
        "var_1 = 3\r\n",
        "var_2 = 5\r\n",
        "var_3 = 9\r\n",
        "var_4 = 1\r\n",
        "var_5 = 9\r\n",
        "var_6 = -6\r\n",
        "var_7 = 5\r\n",
        "var_8 = 4\r\n",
        "\r\n",
        "#nota: == y != no estan permitidos"
      ],
      "execution_count": null,
      "outputs": []
    },
    {
      "cell_type": "code",
      "metadata": {
        "colab": {
          "base_uri": "https://localhost:8080/"
        },
        "id": "a3xpDcW6w8ZU",
        "outputId": "c429721d-f663-4435-b514-3c5070aecb9c"
      },
      "source": [
        "var_1 > var_3  # Resultado esperado: False"
      ],
      "execution_count": null,
      "outputs": [
        {
          "output_type": "execute_result",
          "data": {
            "text/plain": [
              "False"
            ]
          },
          "metadata": {
            "tags": []
          },
          "execution_count": 35
        }
      ]
    },
    {
      "cell_type": "code",
      "metadata": {
        "colab": {
          "base_uri": "https://localhost:8080/"
        },
        "id": "Mz35WkUlynjh",
        "outputId": "7d311d1b-ab4a-444e-808a-cc7401c182e2"
      },
      "source": [
        "var_1 > var_4 # Resultado esperado: True"
      ],
      "execution_count": null,
      "outputs": [
        {
          "output_type": "execute_result",
          "data": {
            "text/plain": [
              "True"
            ]
          },
          "metadata": {
            "tags": []
          },
          "execution_count": 36
        }
      ]
    },
    {
      "cell_type": "code",
      "metadata": {
        "colab": {
          "base_uri": "https://localhost:8080/"
        },
        "id": "zlFToBLky41a",
        "outputId": "39970d0c-cc78-438b-ef13-c8aafe573985"
      },
      "source": [
        "var_2 >= var_7  # Resultado esperado: True"
      ],
      "execution_count": null,
      "outputs": [
        {
          "output_type": "execute_result",
          "data": {
            "text/plain": [
              "True"
            ]
          },
          "metadata": {
            "tags": []
          },
          "execution_count": 45
        }
      ]
    },
    {
      "cell_type": "code",
      "metadata": {
        "colab": {
          "base_uri": "https://localhost:8080/"
        },
        "id": "eJ2Drucjy-s-",
        "outputId": "034a543c-c4e3-4bfa-910b-eb0aa3ebc9b1"
      },
      "source": [
        "var_8 > var_6  # Resultado esperado: True"
      ],
      "execution_count": null,
      "outputs": [
        {
          "output_type": "execute_result",
          "data": {
            "text/plain": [
              "True"
            ]
          },
          "metadata": {
            "tags": []
          },
          "execution_count": 38
        }
      ]
    },
    {
      "cell_type": "code",
      "metadata": {
        "colab": {
          "base_uri": "https://localhost:8080/"
        },
        "id": "h5Ya8j7LzDsC",
        "outputId": "64edaa05-f1c2-4e4f-ff82-3e17321a39dd"
      },
      "source": [
        "var_3 < var_5  # Resultado esperado: False"
      ],
      "execution_count": null,
      "outputs": [
        {
          "output_type": "execute_result",
          "data": {
            "text/plain": [
              "False"
            ]
          },
          "metadata": {
            "tags": []
          },
          "execution_count": 40
        }
      ]
    },
    {
      "cell_type": "code",
      "metadata": {
        "colab": {
          "base_uri": "https://localhost:8080/"
        },
        "id": "wENgsj_-zJ_-",
        "outputId": "5ef8a640-06f4-467a-85c9-aabea4df38e3"
      },
      "source": [
        "var_1 < var_3  # Resultado esperado: True"
      ],
      "execution_count": null,
      "outputs": [
        {
          "output_type": "execute_result",
          "data": {
            "text/plain": [
              "True"
            ]
          },
          "metadata": {
            "tags": []
          },
          "execution_count": 41
        }
      ]
    },
    {
      "cell_type": "code",
      "metadata": {
        "colab": {
          "base_uri": "https://localhost:8080/"
        },
        "id": "YqZ7d0brzODz",
        "outputId": "bf12f878-d699-4ea8-a5f5-af0b99713a71"
      },
      "source": [
        "var_5 <= var_4  # Resultado esperado: False"
      ],
      "execution_count": null,
      "outputs": [
        {
          "output_type": "execute_result",
          "data": {
            "text/plain": [
              "False"
            ]
          },
          "metadata": {
            "tags": []
          },
          "execution_count": 46
        }
      ]
    },
    {
      "cell_type": "code",
      "metadata": {
        "colab": {
          "base_uri": "https://localhost:8080/"
        },
        "id": "07FKdTD2zRhY",
        "outputId": "aef244cc-7a15-4363-adf7-236dca536f62"
      },
      "source": [
        "var_3 >= var_5  # Resultado esperado: True"
      ],
      "execution_count": null,
      "outputs": [
        {
          "output_type": "execute_result",
          "data": {
            "text/plain": [
              "True"
            ]
          },
          "metadata": {
            "tags": []
          },
          "execution_count": 47
        }
      ]
    },
    {
      "cell_type": "markdown",
      "metadata": {
        "id": "qasduPYw1Y0k"
      },
      "source": [
        ""
      ]
    },
    {
      "cell_type": "markdown",
      "metadata": {
        "id": "gWkBGWsj1dIz"
      },
      "source": [
        "# Reto 5: Estructuras de flujo de control"
      ]
    },
    {
      "cell_type": "code",
      "metadata": {
        "colab": {
          "base_uri": "https://localhost:8080/"
        },
        "id": "-RR57wVm1igS",
        "outputId": "87e05ffd-033b-4f8b-c068-a93ce5d69bdb"
      },
      "source": [
        "edad = 20\r\n",
        "\r\n",
        "if edad < 18:\r\n",
        "  print(\"No pasas\")\r\n",
        "elif edad >= 60:\r\n",
        "  print(\"Pasa mayores\")\r\n",
        "else:\r\n",
        "  print(\"Si pasas\")"
      ],
      "execution_count": null,
      "outputs": [
        {
          "output_type": "stream",
          "text": [
            "Pasa mayores\n"
          ],
          "name": "stdout"
        }
      ]
    },
    {
      "cell_type": "code",
      "metadata": {
        "id": "1J9UZYJr33t_"
      },
      "source": [
        "ventas_anuales_totales = 500000 # Este valor lo puedes cambiar para obtener diferentes resultados\r\n",
        "sueldo = 100"
      ],
      "execution_count": null,
      "outputs": []
    },
    {
      "cell_type": "code",
      "metadata": {
        "colab": {
          "base_uri": "https://localhost:8080/"
        },
        "id": "i0VVQBvD4Vmx",
        "outputId": "4afbd1b1-174a-4161-dc8a-a8fa163f3eb4"
      },
      "source": [
        "if ventas_anuales_totales > 1000000:\r\n",
        "  bono = sueldo*0.20\r\n",
        "elif ventas_anuales_totales > 700000 & ventas_anuales_totales <= 1000000:\r\n",
        "  bono = sueldo*0.15\r\n",
        "elif ventas_anuales_totales > 400000 & ventas_anuales_totales <= 700000:\r\n",
        "  bono = sueldo*0.10\r\n",
        "elif ventas_anuales_totales > 100000 & ventas_anuales_totales <= 4000000:\r\n",
        "  bono = sueldo*0.05  \r\n",
        "elif ventas_anuales_totales < 0 & ventas_anuales_totales < 100000:\r\n",
        "  bono = sueldo*0.01\r\n",
        "else:\r\n",
        "  print(\"No es posible calcular el bono\")\r\n",
        "\r\n",
        "print(f\"Felicidades, tu sueldo es {sueldo}; tu bono es de {bono}; \\n\"+\r\n",
        "      f\"El total de sueldo con el bono incluido es de {sueldo+bono}\")"
      ],
      "execution_count": null,
      "outputs": [
        {
          "output_type": "stream",
          "text": [
            "Felicidades, tu sueldo es 100; tu bono es de 15.0; \n",
            "y el total de sueldo con el bono incluido es de 115.0\n"
          ],
          "name": "stdout"
        }
      ]
    }
  ]
}