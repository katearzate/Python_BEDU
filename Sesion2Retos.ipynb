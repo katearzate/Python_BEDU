{
  "nbformat": 4,
  "nbformat_minor": 0,
  "metadata": {
    "colab": {
      "name": "Sesion2Retos.ipynb",
      "provenance": [],
      "collapsed_sections": [],
      "toc_visible": true
    },
    "kernelspec": {
      "name": "python3",
      "display_name": "Python 3"
    }
  },
  "cells": [
    {
      "cell_type": "markdown",
      "metadata": {
        "id": "EFfyKQhUtHJi"
      },
      "source": [
        "# Reto 1: Creando listas y acceder a ellas"
      ]
    },
    {
      "cell_type": "markdown",
      "metadata": {
        "id": "MFeZIY7jv97V"
      },
      "source": [
        "a) definiendo una lista"
      ]
    },
    {
      "cell_type": "code",
      "metadata": {
        "id": "0aWM9bZAu1ip"
      },
      "source": [
        "mi_informacion = [\"Katherine\",\"Kate\",\"cheetos\",\"no cheetos\",\"nada\"]"
      ],
      "execution_count": 1,
      "outputs": []
    },
    {
      "cell_type": "code",
      "metadata": {
        "colab": {
          "base_uri": "https://localhost:8080/"
        },
        "id": "mvtFIY3BvNZM",
        "outputId": "cdde6ea5-5669-40ad-a271-651ea53214f6"
      },
      "source": [
        "print(f'''\r\n",
        "¡Hola! Mi nombre es {mi_informacion[0]}. Todos me dicen {mi_informacion[1]}.\r\n",
        "Mi comida favorita es {mi_informacion[2]}. Y la comida que más detesto es {mi_informacion[3]}.\r\n",
        "Mi trabajo ideal sería {mi_informacion[4]}.\r\n",
        "¡Gracias, chau!\r\n",
        "''')"
      ],
      "execution_count": 2,
      "outputs": [
        {
          "output_type": "stream",
          "text": [
            "\n",
            "¡Hola! Mi nombre es Katherine. Todos me dicen Kate.\n",
            "Mi comida favorita es cheetos. Y la comida que más detesto es no cheetos.\n",
            "Mi trabajo ideal sería nada.\n",
            "¡Gracias, chau!\n",
            "\n"
          ],
          "name": "stdout"
        }
      ]
    },
    {
      "cell_type": "markdown",
      "metadata": {
        "id": "2COrmBfYwEBP"
      },
      "source": [
        "b) Lista construida con variables"
      ]
    },
    {
      "cell_type": "code",
      "metadata": {
        "id": "xqZuCIx_v2uX"
      },
      "source": [
        "info_0 = \"humanos\"\r\n",
        "info_1 = \"destruir por completo la biodiversidad por satisfacer sus deseos y necesidades\"\r\n",
        "info_2 = \"se daran comitieron un grave error\"\r\n",
        "info_3 = \"repararlo, pero será tarde\"\r\n",
        "info_4 = \"trato de hacer mi parte en cuidar el planeta e inspirar a otros que se propongan lo mismo\"\r\n",
        "\r\n",
        "info_faltante = [info_0, info_1, info_2, info_3, info_4]"
      ],
      "execution_count": 4,
      "outputs": []
    },
    {
      "cell_type": "code",
      "metadata": {
        "colab": {
          "base_uri": "https://localhost:8080/"
        },
        "id": "7Flko7NhwQth",
        "outputId": "2b1c4ec1-29a2-487c-d3c4-78554bff6e33"
      },
      "source": [
        "print(f'''\r\n",
        "Algún día los {info_faltante[0]} lograrán su objetivo. Su objetivo de {info_faltante[1]}.\r\n",
        "Ese día, los humanos {info_faltante[2]} y tendrán que {info_faltante[3]}.\r\n",
        "Por esa razón yo todos los días {info_faltante[4]}.\r\n",
        "''')"
      ],
      "execution_count": 5,
      "outputs": [
        {
          "output_type": "stream",
          "text": [
            "\n",
            "Algún día los humanos lograrán su objetivo. Su objetivo de destruir por completo la biodiversidad por satisfacer sus deseos y necesidades.\n",
            "Ese día, los humanos se daran comitieron un grave error y tendrán que repararlo, pero será tarde.\n",
            "Por esa razón yo todos los días trato de hacer mi parte en cuidar el planeta e inspirar a otros que se propongan lo mismo.\n",
            "\n"
          ],
          "name": "stdout"
        }
      ]
    },
    {
      "cell_type": "markdown",
      "metadata": {
        "id": "-kG22yR5x9B5"
      },
      "source": [
        "c) Practicando el operador de indexación"
      ]
    },
    {
      "cell_type": "code",
      "metadata": {
        "id": "3bT3qmLTx-b9"
      },
      "source": [
        "respuestas = [0.58, 9, 2, 3, 37, 5, 75, 4]"
      ],
      "execution_count": 7,
      "outputs": []
    },
    {
      "cell_type": "code",
      "metadata": {
        "colab": {
          "base_uri": "https://localhost:8080/"
        },
        "id": "VyJ-cAumyA14",
        "outputId": "7aa710d7-095c-4983-e21c-4edfe05cdd0b"
      },
      "source": [
        "print(f'''\r\n",
        "1. Los humanos tenemos {respuestas[-6]} ojos en la cara.\r\n",
        "2. Un humano adulto tiene {respuestas[-4]} dientes dentro de su boca.\r\n",
        "3. Un feto tarda {respuestas[-7]} meses en gestarse antes de nacer.\r\n",
        "4. La expectativa de vida en México es de alrededor de {respuestas[-2]} años.\r\n",
        "5. Las horas de sueño al día recomendadas para adultos jóvenes son entre {respuestas[-1]} y {respuestas[-3]}.\r\n",
        "6. El récord actual de velocidad en 100 metros (09/05/2020) fue establecido por Usain Bolt y es de {respuestas[-8]}\r\n",
        "''')"
      ],
      "execution_count": 21,
      "outputs": [
        {
          "output_type": "stream",
          "text": [
            "\n",
            "1. Los humanos tenemos 2 ojos en la cara.\n",
            "2. Un humano adulto tiene 37 dientes dentro de su boca.\n",
            "3. Un feto tarda 9 meses en gestarse antes de nacer.\n",
            "4. La expectativa de vida en México es de alrededor de 75 años.\n",
            "5. Las horas de sueño al día recomendadas para adultos jóvenes son entre 4 y 5.\n",
            "6. El récord actual de velocidad en 100 metros (09/05/2020) fue establecido por Usain Bolt y es de 0.58\n",
            "\n"
          ],
          "name": "stdout"
        }
      ]
    },
    {
      "cell_type": "markdown",
      "metadata": {
        "id": "ghttCGC7ygWY"
      },
      "source": [
        "# Reto 2: Modificando listas"
      ]
    },
    {
      "cell_type": "markdown",
      "metadata": {
        "id": "K6B7p6kZ0tYt"
      },
      "source": [
        "a) Modificar para eliminar diferencias"
      ]
    },
    {
      "cell_type": "markdown",
      "metadata": {
        "id": "yNGuoeRqwCIn"
      },
      "source": [
        ""
      ]
    },
    {
      "cell_type": "code",
      "metadata": {
        "id": "hQKiOq8v0YXV"
      },
      "source": [
        "lista_1 = [3.4, 0.7, 99.9, 5.41, 6.23, 7.9]\r\n",
        "lista_2 = [3.4, 63.4, 0.7, 6.46, 99.9, 2.2, 5.41]\r\n",
        "\r\n",
        "#modificaciones:\r\n",
        "lista_2.pop(1)\r\n",
        "lista_2.pop(2)\r\n",
        "lista_2.pop(3)\r\n",
        "lista_2.append(6.23)\r\n",
        "lista_2.append(7.9)"
      ],
      "execution_count": 33,
      "outputs": []
    },
    {
      "cell_type": "code",
      "metadata": {
        "colab": {
          "base_uri": "https://localhost:8080/"
        },
        "id": "BWVBaE_b1kKv",
        "outputId": "203121c9-7a72-4284-f091-38966d9e6e3e"
      },
      "source": [
        "if lista_1 == lista_2:\r\n",
        "    print(\"Tú y yo somos uno mismo\")"
      ],
      "execution_count": 35,
      "outputs": [
        {
          "output_type": "stream",
          "text": [
            "Tú y yo somos uno mismo\n"
          ],
          "name": "stdout"
        }
      ]
    },
    {
      "cell_type": "markdown",
      "metadata": {
        "id": "zfUXzE8z2JF7"
      },
      "source": [
        "b) Corrigiendo fragmentos"
      ]
    },
    {
      "cell_type": "code",
      "metadata": {
        "colab": {
          "base_uri": "https://localhost:8080/",
          "height": 35
        },
        "id": "vmwcXo3J2J20",
        "outputId": "542f975c-d775-4251-a0b4-97128b9a3cc9"
      },
      "source": [
        "#Apenas él le amalaba el noema, a ella se le agolpaba el clémiso y caían en hidromurias, en salvajes ambonios, en sustalos exasperantes.\r\n",
        "#Cada vez que él procuraba relamar las incopelusas, \r\n",
        "\r\n",
        "fragmento_fragmentado = ['Apenas', 'él', 'le', 'amalaba', 'hidrolizado', 'el', 'noema,',\r\n",
        "                         'a', 'ella', 'se', 'le', 'agolpaba', 'el', 'clémiso', 'súbito',\r\n",
        "                         'y', 'caían', 'en', 'fermales', 'hidromurias,', 'en', 'salvajes', 'ambonios,',\r\n",
        "                         'en', 'sustalos', 'distales', 'exasperantes.',\r\n",
        "                         'Cada', 'vez', 'que', 'él', 'procuraba', 'relamar', 'las', 'incopelusas,']\r\n",
        "\r\n",
        "fragmento_fragmentado.pop(4)\r\n",
        "fragmento_fragmentado.pop(13)\r\n",
        "fragmento_fragmentado.pop(16)\r\n",
        "fragmento_fragmentado.pop(22)"
      ],
      "execution_count": 48,
      "outputs": [
        {
          "output_type": "execute_result",
          "data": {
            "application/vnd.google.colaboratory.intrinsic+json": {
              "type": "string"
            },
            "text/plain": [
              "'distales'"
            ]
          },
          "metadata": {
            "tags": []
          },
          "execution_count": 48
        }
      ]
    },
    {
      "cell_type": "code",
      "metadata": {
        "colab": {
          "base_uri": "https://localhost:8080/"
        },
        "id": "i9CkkKC62e_Z",
        "outputId": "959f59b2-9e20-4240-cbe2-6db87260d0ad"
      },
      "source": [
        "tu_nombre = \"Katherine Arzate\"\r\n",
        "\r\n",
        "print(f'==Colaboración póstuma de Córtazar y {tu_nombre}==\\n')\r\n",
        "print(f'{\" \".join(fragmento_fragmentado)}')"
      ],
      "execution_count": 49,
      "outputs": [
        {
          "output_type": "stream",
          "text": [
            "==Colaboración póstuma de Córtazar y Katherine Arzate==\n",
            "\n",
            "Apenas él le amalaba el noema, a ella se le agolpaba el clémiso y caían en hidromurias, en salvajes ambonios, en sustalos exasperantes. Cada vez que él procuraba relamar las incopelusas,\n"
          ],
          "name": "stdout"
        }
      ]
    },
    {
      "cell_type": "markdown",
      "metadata": {
        "id": "-ge-6SV04wMa"
      },
      "source": [
        "# Reto 3: Creando y accesando diccionarios"
      ]
    },
    {
      "cell_type": "code",
      "metadata": {
        "id": "BrdtaKWK46nk"
      },
      "source": [
        "ventas_mensuales = {\r\n",
        "    \"fecha_de_corte\": \"01/05/2020\",\r\n",
        "    \"unidad\": \"Aragón\",\r\n",
        "    \"ventas_pasteleria\": 100,\r\n",
        "    \"ventas_panaderia\": 50,\r\n",
        "    \"ganancias_pasteleria\": 300,\r\n",
        "    \"ganancias_panaderia\": 100,\r\n",
        "    \"gastos_mensuales_totales\": 220,\r\n",
        "    \"analista\": \"Katherine Arzate\"\r\n",
        "}"
      ],
      "execution_count": 66,
      "outputs": []
    },
    {
      "cell_type": "code",
      "metadata": {
        "colab": {
          "base_uri": "https://localhost:8080/"
        },
        "id": "tAIE_FFJ5APg",
        "outputId": "a85e5e74-a13d-4bb1-cce2-88175e59f631"
      },
      "source": [
        "ventas_totales_de_insumos = ventas_mensuales[\"ventas_pasteleria\"] + ventas_mensuales[\"ventas_panaderia\"]\r\n",
        "ganancias_totales = ventas_mensuales[\"ganancias_pasteleria\"] + ventas_mensuales[\"ganancias_panaderia\"]\r\n",
        "ganancias_netas = ganancias_totales - ventas_mensuales[\"gastos_mensuales_totales\"]\r\n",
        "\r\n",
        "print(f'==Resumen de ventas mensuales de la unidad {ventas_mensuales[\"unidad\"]}==\\n')\r\n",
        "print(f'Fecha de corte: {ventas_mensuales[\"fecha_de_corte\"]}\\n')\r\n",
        "print(f'  - Ventas totales de insumos: {ventas_totales_de_insumos}')\r\n",
        "print(f'  - Ganancias totales: {ganancias_totales}')\r\n",
        "print(f'  - Ganancias netas: {ganancias_netas}')\r\n",
        "print(f'\\n')\r\n",
        "print(f'(Información recabada por: {ventas_mensuales[\"analista\"]})')"
      ],
      "execution_count": 67,
      "outputs": [
        {
          "output_type": "stream",
          "text": [
            "==Resumen de ventas mensuales de la unidad Aragón==\n",
            "\n",
            "Fecha de corte: 01/05/2020\n",
            "\n",
            "  - Ventas totales de insumos: 150\n",
            "  - Ganancias totales: 400\n",
            "  - Ganancias netas: 180\n",
            "\n",
            "\n",
            "(Información recabada por: Katherine Arzate)\n"
          ],
          "name": "stdout"
        }
      ]
    },
    {
      "cell_type": "markdown",
      "metadata": {
        "id": "fN0bGDRl8Vqk"
      },
      "source": [
        "# Reto 4: Modificando diccionarios"
      ]
    },
    {
      "cell_type": "code",
      "metadata": {
        "id": "ebMhaHrR8ctI"
      },
      "source": [
        "registro = {\r\n",
        "    \"id\": \"23f-58j-kju7-54re\",\r\n",
        "    \"nombre\": \"Alberto\",\r\n",
        "    \"apellido_materno\": \"Gutierrez\",\r\n",
        "    \"apellido_paterno\": \"Sosa\",\r\n",
        "    \"profesion\": \"Contador\",\r\n",
        "    \"ultimo_nivel_de_estudios\": \"Maestría\",\r\n",
        "    \"lugar_de_estudios\": \"UAM\",\r\n",
        "    \"numero_de_cuenta\": \"25367890\",\r\n",
        "    \"nip_de_cajero\": \"142\"\r\n",
        "}\r\n",
        "\r\n",
        "registro[\"nombre\"] = \"Katherine\" \r\n",
        "registro[\"apellido_materno\"] = \"Serrano\"\r\n",
        "registro[\"apellido_paterno\"] = \"Arzate\"\r\n",
        "registro[\"profesion\"] = \"estudiante\"\r\n",
        "registro[\"ultimo_nivel_de_estudios\"] = \"Licenciatura\"\r\n",
        "registro[\"lugar_de_estudios\"] = \"Instito Tecnologico de Morelia\"\r\n",
        "registro[\"fecha_de_nacimiento\"] = \"14 de julio de 2020\"\r\n",
        "registro[\"lugar_de_nacimiento\"] = \"Houston, Texas\""
      ],
      "execution_count": 70,
      "outputs": []
    },
    {
      "cell_type": "code",
      "metadata": {
        "colab": {
          "base_uri": "https://localhost:8080/"
        },
        "id": "Z9NJOuZP8tUc",
        "outputId": "0b997fe5-4840-4d7c-bb9e-27702698fc85"
      },
      "source": [
        "print(f'Registro con id: {registro[\"id\"]}\\n')\r\n",
        "print(f'---------------------------------------\\n')\r\n",
        "print(f'{(\"Nombre\"):25} | {registro[\"nombre\"]:25}')\r\n",
        "print(f'{(\"Apellido Paterno\"):25} | {registro[\"apellido_paterno\"]:25}')\r\n",
        "print(f'{(\"Apellido Materno\"):25} | {registro[\"apellido_materno\"]:25}')\r\n",
        "print(f'{(\"Profesión\"):25} | {registro[\"profesion\"]:25}')\r\n",
        "print(f'{(\"Último nivel de estudios\"):25} | {registro[\"ultimo_nivel_de_estudios\"]:25}')\r\n",
        "print(f'{(\"Lugar de estudios\"):25} | {registro[\"lugar_de_estudios\"]:25}')\r\n",
        "print(f'{(\"Fecha de nacimiento\"):25} | {registro[\"fecha_de_nacimiento\"]:25}')\r\n",
        "print(f'{(\"Lugar de nacimiento\"):25} | {registro[\"lugar_de_nacimiento\"]:25}')"
      ],
      "execution_count": 71,
      "outputs": [
        {
          "output_type": "stream",
          "text": [
            "Registro con id: 23f-58j-kju7-54re\n",
            "\n",
            "---------------------------------------\n",
            "\n",
            "Nombre                    | Katherine                \n",
            "Apellido Materno          | Serrano                  \n",
            "Apellido Paterno          | Arzate                   \n",
            "Profesión                 | estudiante               \n",
            "Último nivel de estudios  | Licenciatura             \n",
            "Lugar de estudios         | Instito Tecnologico de Morelia\n",
            "Fecha de nacimiento       | 14 de julio de 2020      \n",
            "Lugar de nacimiento       | Houston, Texas           \n"
          ],
          "name": "stdout"
        }
      ]
    },
    {
      "cell_type": "markdown",
      "metadata": {
        "id": "y3u11W9U-Vve"
      },
      "source": [
        "# Reto 5: Funciones"
      ]
    },
    {
      "cell_type": "markdown",
      "metadata": {
        "id": "UIxz1Wnf-i5u"
      },
      "source": [
        "a) Función numero_es_par"
      ]
    },
    {
      "cell_type": "code",
      "metadata": {
        "id": "Y-Pt0xrI-jj4"
      },
      "source": [
        "#checar si el número es par, regresar True si el número es par y regresar False si el número no es par.\r\n",
        "\r\n",
        "def numero_es_par(numero):\r\n",
        "    if (numero % 2) == 1:\r\n",
        "      return False\r\n",
        "    else: \r\n",
        "      return True"
      ],
      "execution_count": 78,
      "outputs": []
    },
    {
      "cell_type": "code",
      "metadata": {
        "id": "KE6aEnzG-onD"
      },
      "source": [
        "def test_funcion(funcion_a_probar, num_de_errores, contador, parametros=[], resultado_esperado=None):\r\n",
        "    resultado_test = funcion_a_probar(*parametros)\r\n",
        "    print(f'Test {contador}: Resultado esperado es `{resultado_esperado}`, obtuvimos `{resultado_test}`')\r\n",
        "    if resultado_test != resultado_esperado:\r\n",
        "        num_de_errores += 1\r\n",
        "        \r\n",
        "    return num_de_errores"
      ],
      "execution_count": 79,
      "outputs": []
    },
    {
      "cell_type": "code",
      "metadata": {
        "colab": {
          "base_uri": "https://localhost:8080/"
        },
        "id": "JM0JFgymKLZr",
        "outputId": "36edd085-10ae-4380-aa57-707ad3b269b1"
      },
      "source": [
        "print(\"== Tests numero_es_par==\\n\")\r\n",
        "\r\n",
        "contador_de_tests = 0\r\n",
        "errores = 0\r\n",
        "\r\n",
        "contador_de_tests += 1\r\n",
        "errores = test_funcion(numero_es_par, errores, contador_de_tests, parametros=[2], resultado_esperado=True)\r\n",
        "contador_de_tests += 1\r\n",
        "errores = test_funcion(numero_es_par, errores, contador_de_tests, parametros=[3], resultado_esperado=False)\r\n",
        "contador_de_tests += 1\r\n",
        "errores = test_funcion(numero_es_par, errores, contador_de_tests, parametros=[0], resultado_esperado=True)\r\n",
        "contador_de_tests += 1\r\n",
        "errores = test_funcion(numero_es_par, errores, contador_de_tests, parametros=[127], resultado_esperado=False)\r\n",
        "contador_de_tests += 1\r\n",
        "errores = test_funcion(numero_es_par, errores, contador_de_tests, parametros=[-88], resultado_esperado=True)\r\n",
        "contador_de_tests += 1\r\n",
        "errores = test_funcion(numero_es_par, errores, contador_de_tests, parametros=[-1349], resultado_esperado=False)\r\n",
        "\r\n",
        "print(f'\\nErrores encontrados: {errores}')"
      ],
      "execution_count": 80,
      "outputs": [
        {
          "output_type": "stream",
          "text": [
            "== Tests numero_es_par==\n",
            "\n",
            "Test 1: Resultado esperado es `True`, obtuvimos `True`\n",
            "Test 2: Resultado esperado es `False`, obtuvimos `False`\n",
            "Test 3: Resultado esperado es `True`, obtuvimos `True`\n",
            "Test 4: Resultado esperado es `False`, obtuvimos `False`\n",
            "Test 5: Resultado esperado es `True`, obtuvimos `True`\n",
            "Test 6: Resultado esperado es `False`, obtuvimos `False`\n",
            "\n",
            "Errores encontrados: 0\n"
          ],
          "name": "stdout"
        }
      ]
    },
    {
      "cell_type": "markdown",
      "metadata": {
        "id": "EPFdxLSEOtAk"
      },
      "source": [
        "b) Reutilización de código"
      ]
    },
    {
      "cell_type": "code",
      "metadata": {
        "colab": {
          "base_uri": "https://localhost:8080/"
        },
        "id": "wlc6I7iKOvpL",
        "outputId": "fc08fa94-47d0-4c5f-80ed-ec82ce1543ca"
      },
      "source": [
        "resultado_1 = 34 * 100 / 100\r\n",
        "print(f'34 es el {resultado_1}% del número 100\\n')\r\n",
        "\r\n",
        "resultado_2 = 57 * 100 / 127\r\n",
        "print(f'57 es el {resultado_2}% del número 127\\n')\r\n",
        "\r\n",
        "resultado_3 = 12 * 100 / 228\r\n",
        "print(f'12 es el {resultado_3}% del número 228\\n')\r\n",
        "\r\n",
        "resultado_4 = 87 * 100 / 90\r\n",
        "print(f'87 es el {resultado_4}% del número 90\\n')\r\n",
        "\r\n",
        "resultado_5 = 1 * 100 / 999\r\n",
        "print(f'1 es el {resultado_5}% del número 999\\n')\r\n",
        "\r\n",
        "resultado_6 = 66 * 100 / 66\r\n",
        "print(f'66 es el {resultado_6}% del número 66\\n')"
      ],
      "execution_count": 81,
      "outputs": [
        {
          "output_type": "stream",
          "text": [
            "34 es el 34.0% del número 100\n",
            "\n",
            "57 es el 44.881889763779526% del número 127\n",
            "\n",
            "12 es el 5.2631578947368425% del número 228\n",
            "\n",
            "87 es el 96.66666666666667% del número 90\n",
            "\n",
            "1 es el 0.1001001001001001% del número 999\n",
            "\n",
            "66 es el 100.0% del número 66\n",
            "\n"
          ],
          "name": "stdout"
        }
      ]
    },
    {
      "cell_type": "code",
      "metadata": {
        "colab": {
          "base_uri": "https://localhost:8080/"
        },
        "id": "03n1cKZdO1K-",
        "outputId": "a509207a-28e6-4cf0-817a-5ad80ee06c61"
      },
      "source": [
        "def imprimir(num_1,num_2):\r\n",
        "  resultado = (num_1 * 100 / num_2)\r\n",
        "  return (print(f\"{num_1} es el {resultado}% del numero {num_2}\\n\"))\r\n",
        "\r\n",
        "imprimir(34,100)\r\n",
        "imprimir(57,127)\r\n",
        "imprimir(12,228)\r\n",
        "imprimir(87,90)\r\n",
        "imprimir(1,999)\r\n",
        "imprimir(66,66)"
      ],
      "execution_count": 3,
      "outputs": [
        {
          "output_type": "stream",
          "text": [
            "34 es el 34.0% del numero 100\n",
            "\n",
            "57 es el 44.881889763779526% del numero 127\n",
            "\n",
            "12 es el 5.2631578947368425% del numero 228\n",
            "\n",
            "87 es el 96.66666666666667% del numero 90\n",
            "\n",
            "1 es el 0.1001001001001001% del numero 999\n",
            "\n",
            "66 es el 100.0% del numero 66\n",
            "\n"
          ],
          "name": "stdout"
        }
      ]
    }
  ]
}