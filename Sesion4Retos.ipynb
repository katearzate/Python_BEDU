{
  "nbformat": 4,
  "nbformat_minor": 0,
  "metadata": {
    "colab": {
      "name": "Sesion4Retos.ipynb",
      "provenance": [],
      "toc_visible": true
    },
    "kernelspec": {
      "name": "python3",
      "display_name": "Python 3"
    }
  },
  "cells": [
    {
      "cell_type": "markdown",
      "metadata": {
        "id": "g7EPhmg0dVan"
      },
      "source": [
        ""
      ]
    },
    {
      "cell_type": "code",
      "metadata": {
        "id": "OjBnXzoXdTX-"
      },
      "source": [
        "import pandas as pd\r\n",
        "import json\r\n",
        "\r\n",
        "f = open(\"../\", \"r\")        #r significa read\r\n",
        "data_json = json.load(f)\r\n",
        "f.close()\r\n",
        "\r\n",
        "df = pd.DataFrame.from_dict(data_json)"
      ],
      "execution_count": null,
      "outputs": []
    },
    {
      "cell_type": "code",
      "metadata": {
        "colab": {
          "base_uri": "https://localhost:8080/"
        },
        "id": "9JFU_jXvySCu",
        "outputId": "280e2a3d-a036-4f09-ecc9-a8431606c40f"
      },
      "source": [
        "!pip install pyjokes  #ejemplo de instalación de paquete"
      ],
      "execution_count": null,
      "outputs": [
        {
          "output_type": "stream",
          "text": [
            "Collecting pyjokes\n",
            "  Downloading https://files.pythonhosted.org/packages/6a/0e/4a824a4fc93b9725a985fcea7115927b72f2ca6966008300a982cb869720/pyjokes-0.6.0-py2.py3-none-any.whl\n",
            "Installing collected packages: pyjokes\n",
            "Successfully installed pyjokes-0.6.0\n"
          ],
          "name": "stdout"
        }
      ]
    },
    {
      "cell_type": "markdown",
      "metadata": {
        "id": "PHtoUIJZt3Ww"
      },
      "source": [
        "# Reto 1: Series"
      ]
    },
    {
      "cell_type": "code",
      "metadata": {
        "id": "V-j8iZFLuKbo"
      },
      "source": [
        "import pandas as pd\r\n",
        "\r\n",
        "ejecutivo_1 = 'Marco P.'\r\n",
        "ejecutivo_2 = 'Jenny'\r\n",
        "ejecutivo_3 = 'Britney Baby'\r\n",
        "ejecutivo_4 = 'Pepe Guardabosques'\r\n",
        "ejecutivo_5 = 'Lombardo El Destructor'\r\n",
        "\r\n",
        "sueldos = pd.Series([1000,2000,3000,4000,2000], index= [ejecutivo_1, ejecutivo_2, ejecutivo_3, ejecutivo_4, ejecutivo_5])"
      ],
      "execution_count": null,
      "outputs": []
    },
    {
      "cell_type": "code",
      "metadata": {
        "colab": {
          "base_uri": "https://localhost:8080/"
        },
        "id": "LHFYLef2x0m3",
        "outputId": "c78f5912-286c-4d9e-9da8-e256a0e2d7c7"
      },
      "source": [
        "print('== Sueldos de los principales ejecutivos de EyePoker Inc. ==\\n')\r\n",
        "\r\n",
        "print(f'{(\"Ejecutivo\"):25} | {(\"Sueldo\")}')\r\n",
        "print('----------------------------------------')\r\n",
        "print(f'{ejecutivo_1:25} | ${(sueldos.loc[ejecutivo_1])} MXN')\r\n",
        "print(f'{ejecutivo_2:25} | ${(sueldos.loc[ejecutivo_2])} MXN')\r\n",
        "print(f'{ejecutivo_3:25} | ${(sueldos.loc[ejecutivo_3])} MXN')\r\n",
        "print(f'{ejecutivo_4:25} | ${(sueldos.loc[ejecutivo_4])} MXN')\r\n",
        "print(f'{ejecutivo_5:25} | ${(sueldos.loc[ejecutivo_5])} MXN')"
      ],
      "execution_count": null,
      "outputs": [
        {
          "output_type": "stream",
          "text": [
            "== Sueldos de los principales ejecutivos de EyePoker Inc. ==\n",
            "\n",
            "Ejecutivo                 | Sueldo\n",
            "----------------------------------------\n",
            "Marco P.                  | $1000 MXN\n",
            "Jenny                     | $2000 MXN\n",
            "Britney Baby              | $3000 MXN\n",
            "Pepe Guardabosques        | $4000 MXN\n",
            "Lombardo El Destructor    | $2000 MXN\n"
          ],
          "name": "stdout"
        }
      ]
    },
    {
      "cell_type": "markdown",
      "metadata": {
        "id": "ATWDsifpz4CM"
      },
      "source": [
        "# Reto 2: Indexación de Series"
      ]
    },
    {
      "cell_type": "code",
      "metadata": {
        "colab": {
          "base_uri": "https://localhost:8080/"
        },
        "id": "EPP4KZ5A0DqB",
        "outputId": "77adca6b-2992-4b42-95b5-3e07f866d209"
      },
      "source": [
        "import pandas as pd\r\n",
        "\r\n",
        "gastos_mensuales = {\r\n",
        "    'A': 15000,\r\n",
        "    'B': 200000,\r\n",
        "    'C': 3250000,\r\n",
        "    'D': 120000,\r\n",
        "    'E': 135000,\r\n",
        "    'F': 55000,\r\n",
        "    'G': 100000,\r\n",
        "    'H': 25000\r\n",
        "}\r\n",
        "\r\n",
        "gastos_serie = pd.Series(gastos_mensuales)\r\n",
        "\r\n",
        "gastos_serie"
      ],
      "execution_count": null,
      "outputs": [
        {
          "output_type": "execute_result",
          "data": {
            "text/plain": [
              "A      15000\n",
              "B     200000\n",
              "C    3250000\n",
              "D     120000\n",
              "E     135000\n",
              "F      55000\n",
              "G     100000\n",
              "H      25000\n",
              "dtype: int64"
            ]
          },
          "metadata": {
            "tags": []
          },
          "execution_count": 26
        }
      ]
    },
    {
      "cell_type": "code",
      "metadata": {
        "id": "425WGZ4E3Wq7"
      },
      "source": [
        "# Los gastos de la división 'D' y 'G'\r\n",
        "gastos_D_G = gastos_serie.loc[['D','G']]\r\n",
        "\r\n",
        "# Los gastos de la división 'A' y 'E'\r\n",
        "gastos_A_E = gastos_serie.loc[['A','E']]\r\n",
        "\r\n",
        "# Los gastos de la división 'B', 'F' y 'H'\r\n",
        "gastos_B_F_H = gastos_serie.loc[['B','F','H']]\r\n",
        "\r\n",
        "# Los gastos desde la primera división hasta la división 'E'\r\n",
        "gastos_principio_a_E = gastos_serie.loc[:'E']\r\n",
        "\r\n",
        "# Los gastos desde la división 'D' hasta la 'G'\r\n",
        "gastos_D_a_G = gastos_serie.loc['D':'G'] \r\n",
        "\r\n",
        "# Los gastos desde la división 'C' hasta el la última división\r\n",
        "gastos_C_a_final = gastos_serie.loc['C':]"
      ],
      "execution_count": null,
      "outputs": []
    },
    {
      "cell_type": "code",
      "metadata": {
        "colab": {
          "base_uri": "https://localhost:8080/"
        },
        "id": "3VUATQfd3cPY",
        "outputId": "4ad08dc4-916a-4da8-f4cf-74c1048634b8"
      },
      "source": [
        "def revisar_indexaciones(gastos_serie, gastos_D_G, gastos_A_E, gastos_B_F_H, gastos_principio_a_E, gastos_D_a_G, gastos_C_a_final):\r\n",
        "    \r\n",
        "    print(f'== Revisión de Indexaciones ==\\n')\r\n",
        "    print(f\"{'Indexación':30} | {'Resultado':15} | {'Suma esperada ':15} | {'Suma recibida ':15}\")\r\n",
        "    print(\"-\"*85)\r\n",
        "    revisar_indexacion(gastos_serie.loc[['D', 'G']], gastos_D_G, 'División D y G')\r\n",
        "    revisar_indexacion(gastos_serie.loc[['A', 'E']], gastos_A_E, 'División A y E')\r\n",
        "    revisar_indexacion(gastos_serie.loc[['B', 'F', 'H']], gastos_B_F_H, 'División B, F y H')\r\n",
        "    revisar_indexacion(gastos_serie.loc[:'E'], gastos_principio_a_E, 'Desde primera División a E')\r\n",
        "    revisar_indexacion(gastos_serie.loc['D':'G'], gastos_D_a_G, 'División D y G')\r\n",
        "    revisar_indexacion(gastos_serie.loc['C':], gastos_C_a_final, 'División C a última División')\r\n",
        "\r\n",
        "def formatear_precio(precio):\r\n",
        "    return f\"${precio} MXN\"\r\n",
        "    \r\n",
        "def revisar_indexacion(esperada, recibida, nombre):\r\n",
        "    es_correcta = 'Correcta' if esperada.equals(recibida) else 'Incorrecta'\r\n",
        "    suma_esperada = formatear_precio(sum(esperada))\r\n",
        "    suma_recibida = formatear_precio(sum(recibida))\r\n",
        "    print(f\"{nombre:30} | {es_correcta:15} | {suma_esperada:15} | {suma_recibida:15}\")\r\n",
        "\r\n",
        "revisar_indexaciones(gastos_serie, gastos_D_G, gastos_A_E, gastos_B_F_H,\r\n",
        "                         gastos_principio_a_E, gastos_D_a_G, gastos_C_a_final)"
      ],
      "execution_count": null,
      "outputs": [
        {
          "output_type": "stream",
          "text": [
            "== Revisión de Indexaciones ==\n",
            "\n",
            "Indexación                     | Resultado       | Suma esperada   | Suma recibida  \n",
            "-------------------------------------------------------------------------------------\n",
            "División D y G                 | Correcta        | $220000 MXN     | $220000 MXN    \n",
            "División A y E                 | Correcta        | $150000 MXN     | $150000 MXN    \n",
            "División B, F y H              | Correcta        | $280000 MXN     | $280000 MXN    \n",
            "Desde primera División a E     | Correcta        | $3720000 MXN    | $3720000 MXN   \n",
            "División D y G                 | Correcta        | $410000 MXN     | $410000 MXN    \n",
            "División C a última División   | Correcta        | $3685000 MXN    | $3685000 MXN   \n"
          ],
          "name": "stdout"
        }
      ]
    },
    {
      "cell_type": "markdown",
      "metadata": {
        "id": "UINfYS0X9_hU"
      },
      "source": [
        "# Reto 3: DataFrames"
      ]
    },
    {
      "cell_type": "code",
      "metadata": {
        "id": "Q7uioAAr-FEu"
      },
      "source": [
        "import pandas as pd\r\n",
        "\r\n",
        "datos_productos = {\r\n",
        "    \"nombre\": [\"Pokemaster\", \"Cegatron\", \"Pikame Mucho\", \"Lazarillo de Tormes\", \"Stevie Wonder\", \"Needle\", \"El AyMeDuele\"],\r\n",
        "    \"precio\": [10000, 5500, 3500, 750, 15500, 12250, 23000],\r\n",
        "    \"peso\": [1.2, 1.5, 2.3, 5.5, 3.4, 2.4, 8.8],\r\n",
        "    \"capacidad de destrucción retinal\": [3, 7, 6, 8, 9, 2, 10],\r\n",
        "    \"disponible\": [True, False, True, True, False, False, True]\r\n",
        "}\r\n",
        "\r\n",
        "indice = [1, 2, 3, 4, 5, 6, 7]"
      ],
      "execution_count": null,
      "outputs": []
    },
    {
      "cell_type": "code",
      "metadata": {
        "colab": {
          "base_uri": "https://localhost:8080/",
          "height": 266
        },
        "id": "0XdQ8RyQ_tuQ",
        "outputId": "9f1466e9-f8ee-48b7-990b-39fe64883e1a"
      },
      "source": [
        "df_productos = pd.DataFrame(datos_productos, indice)\r\n",
        "df_productos"
      ],
      "execution_count": null,
      "outputs": [
        {
          "output_type": "execute_result",
          "data": {
            "text/html": [
              "<div>\n",
              "<style scoped>\n",
              "    .dataframe tbody tr th:only-of-type {\n",
              "        vertical-align: middle;\n",
              "    }\n",
              "\n",
              "    .dataframe tbody tr th {\n",
              "        vertical-align: top;\n",
              "    }\n",
              "\n",
              "    .dataframe thead th {\n",
              "        text-align: right;\n",
              "    }\n",
              "</style>\n",
              "<table border=\"1\" class=\"dataframe\">\n",
              "  <thead>\n",
              "    <tr style=\"text-align: right;\">\n",
              "      <th></th>\n",
              "      <th>nombre</th>\n",
              "      <th>precio</th>\n",
              "      <th>peso</th>\n",
              "      <th>capacidad de destrucción retinal</th>\n",
              "      <th>disponible</th>\n",
              "    </tr>\n",
              "  </thead>\n",
              "  <tbody>\n",
              "    <tr>\n",
              "      <th>1</th>\n",
              "      <td>Pokemaster</td>\n",
              "      <td>10000</td>\n",
              "      <td>1.2</td>\n",
              "      <td>3</td>\n",
              "      <td>True</td>\n",
              "    </tr>\n",
              "    <tr>\n",
              "      <th>2</th>\n",
              "      <td>Cegatron</td>\n",
              "      <td>5500</td>\n",
              "      <td>1.5</td>\n",
              "      <td>7</td>\n",
              "      <td>False</td>\n",
              "    </tr>\n",
              "    <tr>\n",
              "      <th>3</th>\n",
              "      <td>Pikame Mucho</td>\n",
              "      <td>3500</td>\n",
              "      <td>2.3</td>\n",
              "      <td>6</td>\n",
              "      <td>True</td>\n",
              "    </tr>\n",
              "    <tr>\n",
              "      <th>4</th>\n",
              "      <td>Lazarillo de Tormes</td>\n",
              "      <td>750</td>\n",
              "      <td>5.5</td>\n",
              "      <td>8</td>\n",
              "      <td>True</td>\n",
              "    </tr>\n",
              "    <tr>\n",
              "      <th>5</th>\n",
              "      <td>Stevie Wonder</td>\n",
              "      <td>15500</td>\n",
              "      <td>3.4</td>\n",
              "      <td>9</td>\n",
              "      <td>False</td>\n",
              "    </tr>\n",
              "    <tr>\n",
              "      <th>6</th>\n",
              "      <td>Needle</td>\n",
              "      <td>12250</td>\n",
              "      <td>2.4</td>\n",
              "      <td>2</td>\n",
              "      <td>False</td>\n",
              "    </tr>\n",
              "    <tr>\n",
              "      <th>7</th>\n",
              "      <td>El AyMeDuele</td>\n",
              "      <td>23000</td>\n",
              "      <td>8.8</td>\n",
              "      <td>10</td>\n",
              "      <td>True</td>\n",
              "    </tr>\n",
              "  </tbody>\n",
              "</table>\n",
              "</div>"
            ],
            "text/plain": [
              "                nombre  precio  ...  capacidad de destrucción retinal  disponible\n",
              "1           Pokemaster   10000  ...                                 3        True\n",
              "2             Cegatron    5500  ...                                 7       False\n",
              "3         Pikame Mucho    3500  ...                                 6        True\n",
              "4  Lazarillo de Tormes     750  ...                                 8        True\n",
              "5        Stevie Wonder   15500  ...                                 9       False\n",
              "6               Needle   12250  ...                                 2       False\n",
              "7         El AyMeDuele   23000  ...                                10        True\n",
              "\n",
              "[7 rows x 5 columns]"
            ]
          },
          "metadata": {
            "tags": []
          },
          "execution_count": 83
        }
      ]
    },
    {
      "cell_type": "code",
      "metadata": {
        "id": "6IWHI8IhBc8u"
      },
      "source": [
        "# Quiero un DataFrame que contenga los productos \"Pikame Mucho\" y \"Stevie Wonder\"\r\n",
        "pm_sw = df_productos.loc[[3, 5]]\r\n",
        "\r\n",
        "# Quiero un DataFrame que contenga desde el producto #4 hasta el último\r\n",
        "p4_final = df_productos.loc[4:]\r\n",
        "\r\n",
        "# Quiero un DataFrame que contenga los productos \"El AyMeDuele\", \"Lazarillo de Tormes\" y \"Needle\"\r\n",
        "amd_lt_n = df_productos.loc[[7,4,6]]\r\n",
        "\r\n",
        "# Quiero un DataFrame que contenga desde el primer producto hasta el producto #5\r\n",
        "primer_p5 = df_productos.loc[:5]\r\n",
        "\r\n",
        "# Quiero un DataFrame que contenga los productos \"Pikame Mucho\" y \"Lazarillo de Tormes\", pero sólo con las columnas \"nombre\", \"precio\" y \"peso\"\r\n",
        "pm_lt_pp = df_productos.loc[[3,4],[\"nombre\",\"precio\",\"peso\"]]\r\n",
        "\r\n",
        "# Quiero un DataFrame que contenga todos los productos pero con sólo las columnas 'nombre', 'precio' y 'capacidad de destrucción retinal'\r\n",
        "t_pcdr = df_productos.loc[:,[\"nombre\",\"precio\",\"capacidad de destrucción retinal\"]]\r\n",
        "\r\n",
        "# Quiero un DataFrame que contenga desde el producto #3 hasta el #6, pero sólo las columnas 'nombre', 'precio' y 'disponible'\r\n",
        "p3_p6_pd = df_productos.loc[3:6,[\"nombre\",\"precio\",\"disponible\"]]"
      ],
      "execution_count": null,
      "outputs": []
    },
    {
      "cell_type": "code",
      "metadata": {
        "colab": {
          "base_uri": "https://localhost:8080/"
        },
        "id": "R5YC8fXcEVm1",
        "outputId": "7214d0a1-c190-4aad-b64f-9de110caddcc"
      },
      "source": [
        "def verificar_indexaciones(datos_productos, indice, df_productos, pm_sw, p4_final, amd_lt_n, primer_p5, pm_lt_pp, t_pcdr, p3_p6_pd):\r\n",
        "    \r\n",
        "    import pandas as pd\r\n",
        "    \r\n",
        "    df_productos_esperado = pd.DataFrame(datos_productos, index=indice)\r\n",
        "    if not df_productos_esperado.equals(df_productos):\r\n",
        "        print(f'df_productos ha sido creado incorrectamente ... Favor de revisar')\r\n",
        "        return\r\n",
        "    \r\n",
        "    print(f'== Verificación de Indexaciones ==\\n')\r\n",
        "    verificar_indexacion(df_productos.loc[[3, 5]], pm_sw, 'DataFrame que contenga los productos \"Pikame Mucho\" y \"Stevie Wonder\"')\r\n",
        "    verificar_indexacion(df_productos.loc[4:], p4_final, 'DataFrame que contenga desde el producto #4 hasta el último')\r\n",
        "    verificar_indexacion(df_productos.loc[[7, 4, 6]], amd_lt_n, 'DataFrame que contenga los productos \"El AyMeDuele\", \"Lazarillo de Tormes\" y \"Needle\"')\r\n",
        "    verificar_indexacion(df_productos.loc[:5], primer_p5, 'DataFrame que contenga desde el primer producto hasta el producto #5')\r\n",
        "    verificar_indexacion(df_productos.loc[[3, 4], ['nombre', 'precio', 'peso']], pm_lt_pp, 'DataFrame que contenga los productos \"Pikame Mucho\" y \"Lazarillo de Tormes\", pero sólo con las columnas \"nombre\", \"precio\" y \"peso\"')\r\n",
        "    verificar_indexacion(df_productos[['nombre', 'precio', 'capacidad de destrucción retinal']], t_pcdr, \"DataFrame que contenga todos los productos pero con sólo las columnas 'nombre', 'precio' y 'capacidad de destrucción retinal'\")\r\n",
        "    verificar_indexacion(df_productos.loc[3:6, ['nombre', 'precio', 'disponible']], p3_p6_pd, \"DataFrame que contenga desde el producto #3 hasta el #6, pero sólo las columnas 'nombre', 'precio' y 'disponible'\")\r\n",
        "    \r\n",
        "def verificar_indexacion(esperada, recibida, descripcion):\r\n",
        "    es_correcta = \"Correcto\" if esperada.equals(recibida) else \"Incorrecto\"\r\n",
        "    respuesta = \"Muchas gracias!\" if es_correcta == \"Correcto\" else \"Favor de revisar\"\r\n",
        "    print(f\"\\n- Descripción de pedido: {descripcion}\")\r\n",
        "    print(f\"El pedido es {es_correcta} ... {respuesta}\")\r\n",
        "\r\n",
        "verificar_indexaciones(datos_productos, indice, df_productos, pm_sw, p4_final, amd_lt_n, primer_p5, pm_lt_pp, t_pcdr, p3_p6_pd)"
      ],
      "execution_count": null,
      "outputs": [
        {
          "output_type": "stream",
          "text": [
            "== Verificación de Indexaciones ==\n",
            "\n",
            "\n",
            "- Descripción de pedido: DataFrame que contenga los productos \"Pikame Mucho\" y \"Stevie Wonder\"\n",
            "El pedido es Correcto ... Muchas gracias!\n",
            "\n",
            "- Descripción de pedido: DataFrame que contenga desde el producto #4 hasta el último\n",
            "El pedido es Correcto ... Muchas gracias!\n",
            "\n",
            "- Descripción de pedido: DataFrame que contenga los productos \"El AyMeDuele\", \"Lazarillo de Tormes\" y \"Needle\"\n",
            "El pedido es Correcto ... Muchas gracias!\n",
            "\n",
            "- Descripción de pedido: DataFrame que contenga desde el primer producto hasta el producto #5\n",
            "El pedido es Correcto ... Muchas gracias!\n",
            "\n",
            "- Descripción de pedido: DataFrame que contenga los productos \"Pikame Mucho\" y \"Lazarillo de Tormes\", pero sólo con las columnas \"nombre\", \"precio\" y \"peso\"\n",
            "El pedido es Correcto ... Muchas gracias!\n",
            "\n",
            "- Descripción de pedido: DataFrame que contenga todos los productos pero con sólo las columnas 'nombre', 'precio' y 'capacidad de destrucción retinal'\n",
            "El pedido es Correcto ... Muchas gracias!\n",
            "\n",
            "- Descripción de pedido: DataFrame que contenga desde el producto #3 hasta el #6, pero sólo las columnas 'nombre', 'precio' y 'disponible'\n",
            "El pedido es Correcto ... Muchas gracias!\n"
          ],
          "name": "stdout"
        }
      ]
    },
    {
      "cell_type": "markdown",
      "metadata": {
        "id": "4r2R1kxiBceY"
      },
      "source": [
        "# Reto 4: Manipulación de Columnas"
      ]
    },
    {
      "cell_type": "code",
      "metadata": {
        "id": "ydnzNkQjFHex"
      },
      "source": [
        "import pandas as pd\r\n",
        "\r\n",
        "datos_productos = {\r\n",
        "    \"nombre\": [\"Pokemaster\", \"Cegatron\", \"Pikame Mucho\", \"Lazarillo de Tormes\", \"Stevie Wonder\", \"Needle\", \"El AyMeDuele\"],\r\n",
        "    \"precio\": [10000, 5500, 3500, 750, 15500, 12250, 23000],\r\n",
        "    \"peso\": [1.2, 1.5, 2.3, 5.5, 3.4, 2.4, 8.8],\r\n",
        "    \"capacidad de destrucción retinal\": [3, 7, 6, 8, 9, 2, 10],\r\n",
        "    \"disponible\": [True, False, True, True, False, False, True]\r\n",
        "}\r\n",
        "\r\n",
        "indice = [1, 2, 3, 4, 5, 6, 7]\r\n",
        "\r\n",
        "df_productos = pd.DataFrame(datos_productos,indice)"
      ],
      "execution_count": null,
      "outputs": []
    },
    {
      "cell_type": "code",
      "metadata": {
        "id": "9Ffymp4GJnIS"
      },
      "source": [
        "# Agrega por favor una nueva columna a `df_productos_mas_columna_nueva` con el nombre de columna \"nivel de dolor\"\r\n",
        "columna_nueva = [4, 7, 6, 8, 9, 7, 3]\r\n",
        "df_productos_mas_columna_nueva = df_productos.copy()\r\n",
        "df_productos_mas_columna_nueva[\"nivel de dolor\"] = pd.Series(columna_nueva)\r\n",
        "\r\n",
        "# Cambia por favor el `DataFrame` `df_productos_descuento` cambiando la columna `precio` por la información contenida en `precios_descuento`\r\n",
        "precios_descuento = [8000, 4000, 2000, 500, 14000, 10000, 15000]\r\n",
        "df_productos_descuento = df_productos.copy()\r\n",
        "df_productos_descuento[\"precio\"] = pd.Series(precios_descuento)\r\n",
        "\r\n",
        "# Elimina por favor las columnas \"precio\" y \"peso\" de `df_productos` y asigna el resultado a `df_productos_sin_precio_ni_peso`\r\n",
        "df_productos_sin_precio_ni_peso = df_productos.drop(columns=['precio','peso'])"
      ],
      "execution_count": null,
      "outputs": []
    },
    {
      "cell_type": "code",
      "metadata": {
        "colab": {
          "base_uri": "https://localhost:8080/"
        },
        "id": "Bw2EWrHmPRBM",
        "outputId": "85256e46-64df-4490-98ff-bdb6a9f71626"
      },
      "source": [
        "def verificar_modificaciones(datos_productos, indice, df_productos, columna_nueva, df_productos_mas_columna_nueva, \r\n",
        "                             precios_descuento, df_productos_descuento, df_productos_sin_precio_ni_peso):\r\n",
        "    \r\n",
        "    import pandas as pd\r\n",
        "    \r\n",
        "    df_productos_esperado = pd.DataFrame(datos_productos, index=indice)\r\n",
        "    if not df_productos_esperado.equals(df_productos):\r\n",
        "        print(f'df_productos ha sido creado incorrectamente ... Favor de revisar')\r\n",
        "        return\r\n",
        "    \r\n",
        "    print(f'== Verificación de Modificaciones ==\\n')\r\n",
        "    columna_nueva_serie = pd.Series(columna_nueva, index=indice)\r\n",
        "    df_productos_mas_columna_nueva_2 = df_productos.copy()\r\n",
        "    df_productos_mas_columna_nueva_2['nivel de dolor'] = columna_nueva_serie\r\n",
        "    verificar_modificacion(df_productos_mas_columna_nueva_2, df_productos_mas_columna_nueva, 'Agrega por favor columna `columna_nueva` a `df_productos_mas_columna_nueva` con el nombre de columna \"nivel de dolor\"')\r\n",
        "    \r\n",
        "    precios_descuento_serie = pd.Series(precios_descuento, index=indice)\r\n",
        "    df_productos_descuento_2 = df_productos.copy()\r\n",
        "    df_productos_descuento_2['precio'] = precios_descuento_serie\r\n",
        "    verificar_modificacion(df_productos_descuento_2, df_productos_descuento, 'Cambia por favor el `DataFrame` `df_productos_descuento` cambiando la columna `precio` por la información contenida en `precios_descuento`')\r\n",
        "    \r\n",
        "    df_productos_sin_precio_ni_peso_2 = df_productos.drop(columns=['precio', 'peso'])\r\n",
        "    verificar_modificacion(df_productos_sin_precio_ni_peso_2, df_productos_sin_precio_ni_peso, 'Elimina por favor las columnas \"precio\" y \"peso\"')\r\n",
        "    \r\n",
        "def verificar_modificacion(esperada, recibida, descripcion):\r\n",
        "    es_correcta = \"Correcto\" if esperada.equals(recibida) else \"Incorrecto\"\r\n",
        "    respuesta = \"Muchas gracias!\" if es_correcta == \"Correcto\" else \"Favor de revisar\"\r\n",
        "    print(f\"\\n- Descripción de pedido: {descripcion}\")\r\n",
        "    print(f\"El pedido es {es_correcta} ... {respuesta}\")\r\n",
        "\r\n",
        "    \r\n",
        "\r\n",
        "verificar_modificaciones(datos_productos, indice, df_productos, columna_nueva, df_productos_mas_columna_nueva, \r\n",
        "                             precios_descuento, df_productos_descuento, df_productos_sin_precio_ni_peso)"
      ],
      "execution_count": null,
      "outputs": [
        {
          "output_type": "stream",
          "text": [
            "== Verificación de Modificaciones ==\n",
            "\n",
            "\n",
            "- Descripción de pedido: Agrega por favor columna `columna_nueva` a `df_productos_mas_columna_nueva` con el nombre de columna \"nivel de dolor\"\n",
            "El pedido es Incorrecto ... Favor de revisar\n",
            "\n",
            "- Descripción de pedido: Cambia por favor el `DataFrame` `df_productos_descuento` cambiando la columna `precio` por la información contenida en `precios_descuento`\n",
            "El pedido es Incorrecto ... Favor de revisar\n",
            "\n",
            "- Descripción de pedido: Elimina por favor las columnas \"precio\" y \"peso\"\n",
            "El pedido es Correcto ... Muchas gracias!\n"
          ],
          "name": "stdout"
        }
      ]
    },
    {
      "cell_type": "markdown",
      "metadata": {
        "id": "jdAAhIcQQq8s"
      },
      "source": [
        "# Reto 5: Análisis Exploratorio de Datos"
      ]
    },
    {
      "cell_type": "code",
      "metadata": {
        "id": "GuagIe9MV3KB"
      },
      "source": [
        "import pandas as pd\r\n",
        "import json\r\n",
        "\r\n",
        "f = open('/content/drive/MyDrive/Datasets/zomato_reviews-raw.json','r')\r\n",
        "datajson = json.load(f)\r\n",
        "f.close()\r\n",
        "\r\n",
        "df = pd.DataFrame.from_dict(datajson)"
      ],
      "execution_count": 6,
      "outputs": []
    },
    {
      "cell_type": "code",
      "metadata": {
        "colab": {
          "base_uri": "https://localhost:8080/"
        },
        "id": "5KMiFa6RVY0Q",
        "outputId": "c7e9029d-d779-402e-970f-8dede63a888c"
      },
      "source": [
        "#1. ¿Qué podemos saber de este dataset con tan sólo leer el nombre del archivo y los nombres de las columnas?\r\n",
        "df.columns"
      ],
      "execution_count": 10,
      "outputs": [
        {
          "output_type": "execute_result",
          "data": {
            "text/plain": [
              "Index(['results_found', 'restaurants', 'results_shown', 'results_start',\n",
              "       'message', 'code', 'status'],\n",
              "      dtype='object')"
            ]
          },
          "metadata": {
            "tags": []
          },
          "execution_count": 10
        }
      ]
    },
    {
      "cell_type": "code",
      "metadata": {
        "colab": {
          "base_uri": "https://localhost:8080/"
        },
        "id": "jbCHMxeTVAqs",
        "outputId": "09111925-2765-495a-aec0-94c486efb0ba"
      },
      "source": [
        "#2. ¿Cuál es el tamaño (forma) de nuestro DataFrame?\r\n",
        "df.shape"
      ],
      "execution_count": 9,
      "outputs": [
        {
          "output_type": "execute_result",
          "data": {
            "text/plain": [
              "(479, 7)"
            ]
          },
          "metadata": {
            "tags": []
          },
          "execution_count": 9
        }
      ]
    },
    {
      "cell_type": "code",
      "metadata": {
        "id": "wCknjiZnWGGY",
        "colab": {
          "base_uri": "https://localhost:8080/"
        },
        "outputId": "9d98f719-0d26-4ab1-9dda-b100a12e4601"
      },
      "source": [
        "#¿Qué tipos de datos tenemos?\r\n",
        "df.dtypes"
      ],
      "execution_count": 11,
      "outputs": [
        {
          "output_type": "execute_result",
          "data": {
            "text/plain": [
              "results_found    float64\n",
              "restaurants       object\n",
              "results_shown    float64\n",
              "results_start     object\n",
              "message           object\n",
              "code             float64\n",
              "status            object\n",
              "dtype: object"
            ]
          },
          "metadata": {
            "tags": []
          },
          "execution_count": 11
        }
      ]
    }
  ]
}